{
 "cells": [
  {
   "cell_type": "code",
   "execution_count": null,
   "id": "14fa4fed",
   "metadata": {},
   "outputs": [],
   "source": [
    "\n",
    "# --- Imports ---\n",
    "import numpy as np\n",
    "import pandas as pd\n",
    "from sklearn.model_selection import train_test_split, GridSearchCV\n",
    "from sklearn.preprocessing import StandardScaler\n",
    "from sklearn.metrics import classification_report, accuracy_score\n",
    "from sklearn.svm import SVC\n",
    "from sklearn.neural_network import MLPClassifier\n"
   ]
  },
  {
   "cell_type": "code",
   "execution_count": null,
   "id": "2f5febb1",
   "metadata": {},
   "outputs": [],
   "source": [
    "\n",
    "# --- Load Dataset ---\n",
    "# Example using Breast Cancer dataset\n",
    "from sklearn.datasets import load_breast_cancer\n",
    "data = load_breast_cancer()\n",
    "X, y = data.data, data.target\n",
    "\n",
    "# Split data\n",
    "X_train, X_test, y_train, y_test = train_test_split(X, y, test_size=0.2, random_state=42)\n",
    "\n",
    "# Standardize features\n",
    "scaler = StandardScaler()\n",
    "X_train = scaler.fit_transform(X_train)\n",
    "X_test = scaler.transform(X_test)\n"
   ]
  },
  {
   "cell_type": "code",
   "execution_count": null,
   "id": "e205c930",
   "metadata": {},
   "outputs": [],
   "source": [
    "\n",
    "# --- Grid Search for SVM ---\n",
    "svm_params = {\n",
    "    'C': [0.1, 1, 10],\n",
    "    'kernel': ['linear', 'rbf'],\n",
    "    'gamma': ['scale', 'auto']\n",
    "}\n",
    "\n",
    "svm_model = SVC()\n",
    "svm_grid = GridSearchCV(svm_model, svm_params, cv=5)\n",
    "svm_grid.fit(X_train, y_train)\n"
   ]
  },
  {
   "cell_type": "code",
   "execution_count": null,
   "id": "ed4b1470",
   "metadata": {},
   "outputs": [],
   "source": [
    "\n",
    "# --- Evaluate SVM ---\n",
    "print(\"Best SVM Parameters:\", svm_grid.best_params_)\n",
    "y_pred_svm = svm_grid.predict(X_test)\n",
    "print(\"SVM Accuracy:\", accuracy_score(y_test, y_pred_svm))\n",
    "print(classification_report(y_test, y_pred_svm))\n"
   ]
  },
  {
   "cell_type": "code",
   "execution_count": null,
   "id": "d054de50",
   "metadata": {},
   "outputs": [],
   "source": [
    "\n",
    "# --- Grid Search for Neural Network ---\n",
    "nn_params = {\n",
    "    'hidden_layer_sizes': [(50,), (100,), (50, 50)],\n",
    "    'activation': ['relu', 'tanh'],\n",
    "    'solver': ['adam'],\n",
    "    'alpha': [0.0001, 0.001],\n",
    "    'learning_rate_init': [0.001, 0.01],\n",
    "    'max_iter': [500]\n",
    "}\n",
    "\n",
    "nn_model = MLPClassifier(random_state=42)\n",
    "nn_grid = GridSearchCV(nn_model, nn_params, cv=5)\n",
    "nn_grid.fit(X_train, y_train)\n"
   ]
  },
  {
   "cell_type": "code",
   "execution_count": null,
   "id": "13914e4d",
   "metadata": {},
   "outputs": [],
   "source": [
    "\n",
    "# --- Evaluate Neural Network ---\n",
    "print(\"Best NN Parameters:\", nn_grid.best_params_)\n",
    "y_pred_nn = nn_grid.predict(X_test)\n",
    "print(\"NN Accuracy:\", accuracy_score(y_test, y_pred_nn))\n",
    "print(classification_report(y_test, y_pred_nn))\n"
   ]
  }
 ],
 "metadata": {
  "kernelspec": {
   "display_name": "Python 3",
   "language": "python",
   "name": "python3"
  },
  "language_info": {
   "codemirror_mode": {
    "name": "ipython",
    "version": 3
   },
   "file_extension": ".py",
   "mimetype": "text/x-python",
   "name": "python",
   "nbconvert_exporter": "python",
   "pygments_lexer": "ipython3",
   "version": "3.13.0"
  }
 },
 "nbformat": 4,
 "nbformat_minor": 5
}
